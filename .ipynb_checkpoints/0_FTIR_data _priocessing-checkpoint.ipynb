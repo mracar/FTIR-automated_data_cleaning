{
 "cells": [
  {
   "cell_type": "markdown",
   "id": "16139f54",
   "metadata": {},
   "source": [
    "# FTIR Spectra: Data Cleaning and Joining \n",
    "\n",
    "This script processes all the files in the \"data\" directory that have the extension \".asc\" and returns  an excel file with all the spectra cleaned and combined in one sheet."
   ]
  },
  {
   "cell_type": "code",
   "execution_count": 1,
   "id": "19ea8a04",
   "metadata": {
    "scrolled": true
   },
   "outputs": [],
   "source": [
    "import pandas as pd\n",
    "import os\n",
    "import matplotlib.pyplot as plt\n",
    "\n",
    "%matplotlib notebook"
   ]
  },
  {
   "cell_type": "code",
   "execution_count": 2,
   "id": "aaef55c1",
   "metadata": {},
   "outputs": [],
   "source": [
    "def FTIR_data_processing(file, df_all):\n",
    "    df = pd.read_csv(file, sep=\"\\t\", skiprows=[x for x in range(55)])\n",
    "    df.rename(columns={df.columns[0]: \"Abs/Tra\"})\n",
    "    df.reset_index(inplace=True)\n",
    "    df.columns = [\"Wavenumber\", \"Abs\"]\n",
    "    df.plot(x=\"Wavenumber\", y=\"Abs\", xlabel=\"Wavenumber\", ylabel=\"Abs-Tra\")\n",
    "    plt.title(file[:-4])\n",
    "    wn = \"Wavenumber \" + file[:-4]\n",
    "    fn = file[:-4]\n",
    "    df_all[\"Wavenumber\"] = df[\"Wavenumber\"]\n",
    "    df_all.set_index = df[\"Wavenumber\"]\n",
    "    df_all[fn] = df[\"Abs\"]\n",
    "    df.to_csv(file[:-4] + \".csv\", decimal=\",\", sep=\";\")\n",
    "    return df, df_all"
   ]
  },
  {
   "cell_type": "code",
   "execution_count": 3,
   "id": "cdb14127",
   "metadata": {
    "scrolled": true
   },
   "outputs": [],
   "source": [
    "# Current working directory\n",
    "path = os.chdir(\"Data\")\n",
    "path = os.getcwd()\n",
    "\n",
    "# Files in CWD\n",
    "directories = os.listdir(path)\n",
    "\n",
    "df_all = pd.DataFrame()\n",
    "for file in directories:\n",
    "    if file[-4:] == \".asc\":\n",
    "        df, df_all = FTIR_data_processing(file, df_all)\n",
    "\n",
    "df_all.to_csv(\"0_ALL_FTIR.csv\", decimal=\",\", sep=\";\")"
   ]
  },
  {
   "cell_type": "code",
   "execution_count": null,
   "id": "a1761f02",
   "metadata": {},
   "outputs": [],
   "source": []
  },
  {
   "cell_type": "code",
   "execution_count": null,
   "id": "d3c591b2",
   "metadata": {
    "scrolled": true
   },
   "outputs": [],
   "source": []
  }
 ],
 "metadata": {
  "kernelspec": {
   "display_name": "Python 3",
   "language": "python",
   "name": "python3"
  },
  "language_info": {
   "codemirror_mode": {
    "name": "ipython",
    "version": 3
   },
   "file_extension": ".py",
   "mimetype": "text/x-python",
   "name": "python",
   "nbconvert_exporter": "python",
   "pygments_lexer": "ipython3",
   "version": "3.8.8"
  }
 },
 "nbformat": 4,
 "nbformat_minor": 5
}
